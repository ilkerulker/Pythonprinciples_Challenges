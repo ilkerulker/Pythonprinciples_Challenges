{
 "cells": [
  {
   "cell_type": "markdown",
   "metadata": {},
   "source": [
    "# pythonprinciples.com/challenges"
   ]
  },
  {
   "cell_type": "markdown",
   "metadata": {},
   "source": [
    "## Capital indexes"
   ]
  },
  {
   "cell_type": "code",
   "execution_count": 8,
   "metadata": {},
   "outputs": [],
   "source": [
    "l=[]\n",
    "def capital_indexes(x):\n",
    "    for i in range(len(x)):\n",
    "        if x[i].isupper()==True:\n",
    "            l.append(i)\n",
    "    return(l)        \n",
    "\n",
    "\n"
   ]
  },
  {
   "cell_type": "code",
   "execution_count": 9,
   "metadata": {},
   "outputs": [
    {
     "data": {
      "text/plain": [
       "[0, 3, 6]"
      ]
     },
     "execution_count": 9,
     "metadata": {},
     "output_type": "execute_result"
    }
   ],
   "source": [
    "capital_indexes('BarBunYa')"
   ]
  },
  {
   "cell_type": "code",
   "execution_count": 11,
   "metadata": {},
   "outputs": [],
   "source": [
    "\n",
    "# shorter version\n",
    "from string import uppercase\n",
    "def capital_indexes(s):\n",
    "    return [i for i in range(len(s)) if s[i] in uppercase]"
   ]
  },
  {
   "cell_type": "markdown",
   "metadata": {},
   "source": [
    "## Middle letter"
   ]
  },
  {
   "cell_type": "code",
   "execution_count": 29,
   "metadata": {},
   "outputs": [],
   "source": [
    "def mid(x):\n",
    "    if len(x)%2==1 :\n",
    "        return (x[int((len(x)-1)/2)])\n",
    "    else:\n",
    "        return('')\n",
    "    "
   ]
  },
  {
   "cell_type": "code",
   "execution_count": 35,
   "metadata": {},
   "outputs": [
    {
     "data": {
      "text/plain": [
       "'h'"
      ]
     },
     "execution_count": 35,
     "metadata": {},
     "output_type": "execute_result"
    }
   ],
   "source": [
    "mid('kabshjfak')"
   ]
  },
  {
   "cell_type": "code",
   "execution_count": 41,
   "metadata": {},
   "outputs": [],
   "source": [
    "# Sitenin cözumu:\n",
    "def mid(string):\n",
    "    if len(string) % 2 == 0:\n",
    "        return \"\"\n",
    "    return string[len(string)//2]"
   ]
  },
  {
   "cell_type": "markdown",
   "metadata": {},
   "source": [
    "## Online status"
   ]
  },
  {
   "cell_type": "code",
   "execution_count": null,
   "metadata": {},
   "outputs": [],
   "source": [
    "statuses = {\n",
    "    \"Alice\": \"online\",\n",
    "    \"Bob\": \"offline\",\n",
    "    \"Eve\": \"online\",\n",
    "}"
   ]
  },
  {
   "cell_type": "code",
   "execution_count": null,
   "metadata": {},
   "outputs": [],
   "source": [
    "def online_count(dict):\n",
    "    a=list(dict.values())\n",
    "    return a.count('online')"
   ]
  },
  {
   "cell_type": "code",
   "execution_count": null,
   "metadata": {},
   "outputs": [],
   "source": [
    "# sitenin cozumleri\n",
    "# long version\n",
    "def online_count(people):\n",
    "    count = 0\n",
    "    for person, status in people.items():\n",
    "        if status == \"online\":\n",
    "            count += 1\n",
    "    return count\n",
    "\n",
    "# short version\n",
    "def online_count(people):\n",
    "    return len([p for p in people if people[p] == \"online\"])"
   ]
  },
  {
   "cell_type": "markdown",
   "metadata": {},
   "source": [
    "## Randomness"
   ]
  },
  {
   "cell_type": "code",
   "execution_count": 42,
   "metadata": {},
   "outputs": [],
   "source": [
    "import random\n"
   ]
  },
  {
   "cell_type": "code",
   "execution_count": 55,
   "metadata": {},
   "outputs": [],
   "source": [
    "def random_number():\n",
    "    x=random.randint(0, 101)\n",
    "    return x"
   ]
  },
  {
   "cell_type": "code",
   "execution_count": 56,
   "metadata": {},
   "outputs": [
    {
     "data": {
      "text/plain": [
       "20"
      ]
     },
     "execution_count": 56,
     "metadata": {},
     "output_type": "execute_result"
    }
   ],
   "source": [
    "random_number()"
   ]
  },
  {
   "cell_type": "code",
   "execution_count": 57,
   "metadata": {},
   "outputs": [],
   "source": [
    "# sitenin cozumu\n",
    "import random\n",
    "def random_number():\n",
    "    return random.randint(1, 100)"
   ]
  },
  {
   "cell_type": "markdown",
   "metadata": {},
   "source": [
    "## Type check"
   ]
  },
  {
   "cell_type": "code",
   "execution_count": null,
   "metadata": {},
   "outputs": [],
   "source": [
    "def only_ints(x,y):\n",
    "    if type(x)==int and type(y)==int:\n",
    "        return True\n",
    "    else :\n",
    "        return False"
   ]
  },
  {
   "cell_type": "code",
   "execution_count": null,
   "metadata": {},
   "outputs": [],
   "source": [
    "# Sitenin cözumu\n",
    "def only_ints(a, b):\n",
    "    return type(a) == int and type(b) == int"
   ]
  },
  {
   "cell_type": "markdown",
   "metadata": {},
   "source": [
    "## Double letters\n"
   ]
  },
  {
   "cell_type": "code",
   "execution_count": 75,
   "metadata": {},
   "outputs": [],
   "source": [
    "def double_letters (s):\n",
    "    for i in range(len(s)-1):\n",
    "        if s[i]==s[i+1]:\n",
    "            return True\n",
    "    return False"
   ]
  },
  {
   "cell_type": "code",
   "execution_count": 79,
   "metadata": {},
   "outputs": [
    {
     "data": {
      "text/plain": [
       "True"
      ]
     },
     "execution_count": 79,
     "metadata": {},
     "output_type": "execute_result"
    }
   ],
   "source": [
    "double_letters ('kalemm')"
   ]
  },
  {
   "cell_type": "code",
   "execution_count": 56,
   "metadata": {},
   "outputs": [],
   "source": [
    "# Sitenin cozumu:\n",
    "\n",
    "# naive solution\n",
    "def double_letters(string):\n",
    "    for i in range(len(string) - 1):\n",
    "        letter1 = string[i]\n",
    "        letter2 = string[i+1]\n",
    "        if letter1 == letter2:\n",
    "            return True\n",
    "    return False\n"
   ]
  },
  {
   "cell_type": "code",
   "execution_count": 89,
   "metadata": {},
   "outputs": [],
   "source": [
    "# shorter solution\n",
    "# using a list comprehension, zip, and any\n",
    "def double_letters(string):\n",
    "    return any([a == b for a, b in zip(string, string[1:])])\n"
   ]
  },
  {
   "cell_type": "code",
   "execution_count": 87,
   "metadata": {},
   "outputs": [],
   "source": [
    "string='kalem ve saat'"
   ]
  },
  {
   "cell_type": "code",
   "execution_count": null,
   "metadata": {},
   "outputs": [],
   "source": [
    "for a, b in zip(string, string[1:]) :\n",
    "    print(a+b)\n",
    "# zip fermuar demek. Burada string'in harflerini sirayla dolasti."
   ]
  },
  {
   "cell_type": "markdown",
   "metadata": {},
   "source": [
    "# map, zip, reduce kullanimina örnek:"
   ]
  },
  {
   "cell_type": "code",
   "execution_count": 112,
   "metadata": {},
   "outputs": [
    {
     "name": "stdout",
     "output_type": "stream",
     "text": [
      "Merhaba benim adım Ilker Python yazmayı seviyorum Hosca kalin\n"
     ]
    }
   ],
   "source": [
    "\n",
    "text = \"Merhaba, benim adım Ilker. Python yazmayı seviyorum. Hosca kalin!\"\n",
    "\n",
    "# regex ile istemediğim karakterleri siliyorum.\n",
    "clean_text = re.sub('[!.,]','',text)\n",
    "print(clean_text)  \n"
   ]
  },
  {
   "cell_type": "code",
   "execution_count": 96,
   "metadata": {},
   "outputs": [
    {
     "name": "stdout",
     "output_type": "stream",
     "text": [
      "['MERHABA', 'BENIM', 'ADIM', 'ILKER', 'PYTHON', 'YAZMAYI', 'SEVIYORUM', 'HOSCA', 'KALIN']\n"
     ]
    }
   ],
   "source": [
    "#Boşluğa göre split ediyorum böylece kelimeleri buluyorum.\n",
    "words = clean_text.upper().split()\n",
    "print(words)  \n"
   ]
  },
  {
   "cell_type": "code",
   "execution_count": 98,
   "metadata": {},
   "outputs": [
    {
     "data": {
      "text/plain": [
       "['MERHABA', 'YAZMAYI', 'SEVIYORUM']"
      ]
     },
     "execution_count": 98,
     "metadata": {},
     "output_type": "execute_result"
    }
   ],
   "source": [
    "# 6 karakterden fazla olan kelimeleri secelim.\n",
    "list(filter(lambda word:len(word) > 6, words))  \n"
   ]
  },
  {
   "cell_type": "code",
   "execution_count": 109,
   "metadata": {},
   "outputs": [
    {
     "name": "stdout",
     "output_type": "stream",
     "text": [
      "[7, 5, 4, 5, 6, 7, 9, 5, 5]\n"
     ]
    }
   ],
   "source": [
    "# Kelimelerin karakter sayilarınin listesini görelim\n",
    "word_chars = list(map(lambda word:len(word),words)) \n",
    "print(word_chars)"
   ]
  },
  {
   "cell_type": "code",
   "execution_count": 115,
   "metadata": {},
   "outputs": [],
   "source": [
    "from functools import reduce  "
   ]
  },
  {
   "cell_type": "code",
   "execution_count": 117,
   "metadata": {},
   "outputs": [
    {
     "data": {
      "text/plain": [
       "53"
      ]
     },
     "execution_count": 117,
     "metadata": {},
     "output_type": "execute_result"
    }
   ],
   "source": [
    "# text'teki tüm kelimelerin toplam karakter sayısını bulalım\n",
    "\n",
    "reduce(lambda x,y:x+y, word_chars)"
   ]
  },
  {
   "cell_type": "markdown",
   "metadata": {},
   "source": [
    "#################################################################################"
   ]
  },
  {
   "cell_type": "markdown",
   "metadata": {},
   "source": [
    "## Adding and removing dots"
   ]
  },
  {
   "cell_type": "code",
   "execution_count": 6,
   "metadata": {},
   "outputs": [],
   "source": [
    "def add_dots(st):\n",
    "    st2 = \".\".join(st)\n",
    "    return st2\n"
   ]
  },
  {
   "cell_type": "code",
   "execution_count": 10,
   "metadata": {},
   "outputs": [],
   "source": [
    "def remove_dots(st):\n",
    "    st3 = st.replace(\".\",\"\")\n",
    "    return st3"
   ]
  },
  {
   "cell_type": "code",
   "execution_count": 13,
   "metadata": {},
   "outputs": [],
   "source": [
    "#Sitenin cozumu:\n",
    "# the longer way\n",
    "def add_dots(s):\n",
    "    out = \"\"\n",
    "    for letter in s:\n",
    "        out += letter + \".\"\n",
    "    return out[:-1]\n",
    "\n",
    "def remove_dots(s):\n",
    "    out = \"\"\n",
    "    for letter in s:\n",
    "        if letter != \".\":\n",
    "            out += letter\n",
    "    return out\n",
    "\n",
    "\n",
    "# the short way\n",
    "def add_dots(s):\n",
    "    return \".\".join(s)\n",
    "\n",
    "def remove_dots(s):\n",
    "    return s.replace(\".\", \"\")"
   ]
  },
  {
   "cell_type": "markdown",
   "metadata": {},
   "source": [
    "## Counting syllables"
   ]
  },
  {
   "cell_type": "code",
   "execution_count": 1,
   "metadata": {},
   "outputs": [],
   "source": [
    "def count(wrd):\n",
    "    a=list(wrd)\n",
    "    return a.count('-')+1"
   ]
  },
  {
   "cell_type": "code",
   "execution_count": null,
   "metadata": {},
   "outputs": [],
   "source": [
    "#sitenin cozumu:\n",
    "\n",
    "# naive solution\n",
    "def count(word):\n",
    "    syllables = 1\n",
    "    for letter in word:\n",
    "        if letter == \"-\":\n",
    "            syllables = syllables + 1\n",
    "    return syllables\n",
    "\n",
    "# using the count method\n",
    "def count(word):\n",
    "    return word.count(\"-\") + 1\n",
    "\n",
    "# using split\n",
    "def count(word):\n",
    "    return len(word.split(\"-\"))"
   ]
  },
  {
   "cell_type": "markdown",
   "metadata": {},
   "source": [
    "## Anagrams"
   ]
  },
  {
   "cell_type": "code",
   "execution_count": 67,
   "metadata": {},
   "outputs": [],
   "source": [
    "def is_anagram(a,b):\n",
    "    x=list(a)\n",
    "    y=list(b)\n",
    "    x.sort()\n",
    "    y.sort()\n",
    "    return x==y"
   ]
  },
  {
   "cell_type": "code",
   "execution_count": 68,
   "metadata": {},
   "outputs": [
    {
     "data": {
      "text/plain": [
       "False"
      ]
     },
     "execution_count": 68,
     "metadata": {},
     "output_type": "execute_result"
    }
   ],
   "source": [
    "is_anagram('aba','cbA')"
   ]
  },
  {
   "cell_type": "code",
   "execution_count": null,
   "metadata": {},
   "outputs": [],
   "source": [
    "# easy solution\n",
    "def is_anagram(string1, string2):\n",
    "    return sorted(string1) == sorted(string2)\n",
    "\n",
    "# harder solution:\n",
    "# count how many times each letter appears in each string,\n",
    "# and make sure all the counts are the same.\n",
    "def count_letters(string):\n",
    "    return {l: string.count(l) for l in string}\n",
    "def is_anagram(string1, string2):\n",
    "    return count_letters(string1) == count_letters(string2)"
   ]
  },
  {
   "cell_type": "markdown",
   "metadata": {},
   "source": [
    "## Flatten a list"
   ]
  },
  {
   "cell_type": "code",
   "execution_count": 80,
   "metadata": {},
   "outputs": [],
   "source": [
    "n=[]\n",
    "def flatten(ls):\n",
    "    for i in range(len(ls)):\n",
    "        n.extend(ls[i])\n",
    "    return n"
   ]
  },
  {
   "cell_type": "code",
   "execution_count": 81,
   "metadata": {},
   "outputs": [
    {
     "data": {
      "text/plain": [
       "[1, 2, 3, 4]"
      ]
     },
     "execution_count": 81,
     "metadata": {},
     "output_type": "execute_result"
    }
   ],
   "source": [
    "flatten([[1, 2], [3, 4]])"
   ]
  },
  {
   "cell_type": "code",
   "execution_count": null,
   "metadata": {},
   "outputs": [],
   "source": [
    "#Sitenin cozumu:\n",
    "\n",
    "# naive solution\n",
    "def flatten(outer_list):\n",
    "    result = []\n",
    "    for inner_list in outer_list:\n",
    "        for item in inner_list:\n",
    "            result.append(item)\n",
    "    return result\n",
    "\n",
    "# solution with nested list comprehensions\n",
    "# (can be put on a single line for conciseness)\n",
    "def flatten(outer_list):\n",
    "    return [\n",
    "        item\n",
    "        for inner_list in outer_list\n",
    "        for item in inner_list\n",
    "    ]"
   ]
  },
  {
   "cell_type": "markdown",
   "metadata": {},
   "source": [
    "## Min-maxing"
   ]
  },
  {
   "cell_type": "code",
   "execution_count": 82,
   "metadata": {},
   "outputs": [],
   "source": [
    "def largest_difference(lis):\n",
    "    return max(lis) - min(lis)"
   ]
  },
  {
   "cell_type": "code",
   "execution_count": 83,
   "metadata": {},
   "outputs": [
    {
     "data": {
      "text/plain": [
       "52"
      ]
     },
     "execution_count": 83,
     "metadata": {},
     "output_type": "execute_result"
    }
   ],
   "source": [
    "largest_difference([3,55,4])"
   ]
  },
  {
   "cell_type": "code",
   "execution_count": null,
   "metadata": {},
   "outputs": [],
   "source": [
    "#Sitenin cozumu:\n",
    "\n",
    "# short solution\n",
    "def largest_difference(numbers):\n",
    "    return max(numbers) - min(numbers)\n",
    "\n",
    "# naive solution\n",
    "def largest_difference(numbers):\n",
    "    smallest = 100\n",
    "    for n in numbers:\n",
    "        if n < smallest:\n",
    "            smallest = n\n",
    "\n",
    "    largest = -100\n",
    "    for n in numbers:\n",
    "        if n > largest:\n",
    "            largest = n\n",
    "\n",
    "    difference = largest - smallest\n",
    "    return difference"
   ]
  },
  {
   "cell_type": "markdown",
   "metadata": {},
   "source": [
    "## Divisible by 3"
   ]
  },
  {
   "cell_type": "code",
   "execution_count": null,
   "metadata": {},
   "outputs": [],
   "source": [
    "def div_3(h):\n",
    "    return h%3 == 0"
   ]
  },
  {
   "cell_type": "markdown",
   "metadata": {},
   "source": [
    "## Tic tac toe input\n"
   ]
  },
  {
   "cell_type": "code",
   "execution_count": 114,
   "metadata": {},
   "outputs": [],
   "source": [
    "t=[]\n",
    "def get_row_col(x):\n",
    "    \n",
    "    if x[1]=='1':\n",
    "        t.append(0)\n",
    "    elif x[1]=='2':\n",
    "        t.append(1)\n",
    "    elif x[1]=='3':\n",
    "        t.append(2)\n",
    "    \n",
    "    if x[0]=='A':\n",
    "        t.append(0)\n",
    "    elif x[0]=='B':\n",
    "        t.append(1)\n",
    "    elif x[0]=='C':\n",
    "        t.append(2)\n",
    "        \n",
    "    return tuple(t)"
   ]
  },
  {
   "cell_type": "code",
   "execution_count": 115,
   "metadata": {},
   "outputs": [
    {
     "data": {
      "text/plain": [
       "(0, 0)"
      ]
     },
     "execution_count": 115,
     "metadata": {},
     "output_type": "execute_result"
    }
   ],
   "source": [
    "get_row_col('A1')"
   ]
  },
  {
   "cell_type": "code",
   "execution_count": 116,
   "metadata": {},
   "outputs": [],
   "source": [
    "# Sitenin cozumu:\n",
    "\n",
    "def get_row_col(choice):\n",
    "    translate = {\"A\": 0, \"B\": 1, \"C\": 2}\n",
    "    letter = choice[0]\n",
    "    number = choice[1]\n",
    "    row = int(number) - 1\n",
    "    column = translate[letter]\n",
    "    return (row, column)"
   ]
  },
  {
   "cell_type": "markdown",
   "metadata": {},
   "source": [
    "## Palindrome"
   ]
  },
  {
   "cell_type": "code",
   "execution_count": 117,
   "metadata": {},
   "outputs": [],
   "source": [
    "def palindrome(k):\n",
    "    return k==k[::-1]"
   ]
  },
  {
   "cell_type": "code",
   "execution_count": 121,
   "metadata": {},
   "outputs": [
    {
     "data": {
      "text/plain": [
       "True"
      ]
     },
     "execution_count": 121,
     "metadata": {},
     "output_type": "execute_result"
    }
   ],
   "source": [
    "palindrome('kapak')"
   ]
  },
  {
   "cell_type": "code",
   "execution_count": null,
   "metadata": {},
   "outputs": [],
   "source": [
    "# Sitenin cozumu:\n",
    "# iterative solution:\n",
    "# keep chopping off the head and tail of the string,\n",
    "# and compare the two. If they are not equal, it's\n",
    "# not a palindrome. Stop when the string gets too short.\n",
    "def palindrome(string):\n",
    "    while len(string) > 1:\n",
    "        head = string[0]\n",
    "        tail = string[-1]\n",
    "        string = string[1:-1]\n",
    "        if head != tail:\n",
    "            return False\n",
    "    return True\n",
    "\n",
    "# recursive solution: equivalent to the above.\n",
    "def palindrome(string):\n",
    "    if len(string) < 2:\n",
    "        return True\n",
    "    return string[0] == string[-1] and palindrome(string[1:-1])\n",
    "\n",
    "# smarter solution:\n",
    "# check if reversing the string gives the same string.\n",
    "def palindrome(string):\n",
    "    return string == string[::-1]"
   ]
  },
  {
   "cell_type": "markdown",
   "metadata": {},
   "source": [
    "## Up and down"
   ]
  },
  {
   "cell_type": "code",
   "execution_count": 134,
   "metadata": {},
   "outputs": [],
   "source": [
    "def up_down(t):\n",
    "    return (t-1,t+1)"
   ]
  },
  {
   "cell_type": "code",
   "execution_count": 135,
   "metadata": {},
   "outputs": [
    {
     "data": {
      "text/plain": [
       "(87, 89)"
      ]
     },
     "execution_count": 135,
     "metadata": {},
     "output_type": "execute_result"
    }
   ],
   "source": [
    "up_down(88)"
   ]
  },
  {
   "cell_type": "markdown",
   "metadata": {},
   "source": [
    "## Consecutive zeros"
   ]
  },
  {
   "cell_type": "code",
   "execution_count": 169,
   "metadata": {},
   "outputs": [],
   "source": [
    "t=[]\n",
    "def consecutive_zeros(x):\n",
    "    l=x.split('1')\n",
    "    \n",
    "    for i in range(len(l)):\n",
    "        t.append(len(l[i]))\n",
    "        \n",
    "    t.sort()\n",
    "    return(t[-1])  \n",
    "    \n",
    "    "
   ]
  },
  {
   "cell_type": "code",
   "execution_count": 170,
   "metadata": {},
   "outputs": [
    {
     "data": {
      "text/plain": [
       "2"
      ]
     },
     "execution_count": 170,
     "metadata": {},
     "output_type": "execute_result"
    }
   ],
   "source": [
    "consecutive_zeros(\"1001\")"
   ]
  },
  {
   "cell_type": "code",
   "execution_count": null,
   "metadata": {},
   "outputs": [],
   "source": [
    "# Sitenin cozumu:\n",
    "\n",
    "# naive solution\n",
    "def consecutive_zeros(bin_str):\n",
    "    result = 0\n",
    "    streak = 0\n",
    "    for letter in bin_str:\n",
    "        if letter == \"0\":\n",
    "            streak += 1\n",
    "        else:\n",
    "            streak = 0\n",
    "        result = max(result, streak)\n",
    "    return result\n",
    "\n",
    "# shorter solution\n",
    "def consecutive_zeros(bin_str):\n",
    "    return max([len(s) for s in bin_str.split(\"1\")])"
   ]
  },
  {
   "cell_type": "markdown",
   "metadata": {},
   "source": [
    "## All equal"
   ]
  },
  {
   "cell_type": "code",
   "execution_count": 176,
   "metadata": {},
   "outputs": [],
   "source": [
    "def all_equal(l):\n",
    "    return all([a == b for a, b in zip(l, l[1:])])\n",
    "        "
   ]
  },
  {
   "cell_type": "code",
   "execution_count": 179,
   "metadata": {},
   "outputs": [
    {
     "data": {
      "text/plain": [
       "True"
      ]
     },
     "execution_count": 179,
     "metadata": {},
     "output_type": "execute_result"
    }
   ],
   "source": [
    "all_equal([1])"
   ]
  },
  {
   "cell_type": "code",
   "execution_count": null,
   "metadata": {},
   "outputs": [],
   "source": [
    "# naive solution\n",
    "def all_equal(items):\n",
    "    for item1 in items:\n",
    "        for item2 in items:\n",
    "            if item1 != item2:\n",
    "                return False\n",
    "    return True\n",
    "\n",
    "\n",
    "# one-liner with nested list comprehension\n",
    "# and the all() built-in\n",
    "def all_equal(items):\n",
    "    return all(item1 == item2 for item1 in items for item2 in items)"
   ]
  },
  {
   "cell_type": "markdown",
   "metadata": {},
   "source": [
    "## Boolean and"
   ]
  },
  {
   "cell_type": "code",
   "execution_count": 188,
   "metadata": {},
   "outputs": [],
   "source": [
    "def triple_and(x,y,z):\n",
    "    if x==True and y==True and z==True:\n",
    "        return True\n",
    "    elif x==False and y==False and z==False:\n",
    "        return True\n",
    "    return False    "
   ]
  },
  {
   "cell_type": "code",
   "execution_count": null,
   "metadata": {},
   "outputs": [],
   "source": [
    "#Cok basitmis, ben de neler dusundum!\n",
    "def triple_and(a, b, c):\n",
    "    return a and b and c"
   ]
  },
  {
   "cell_type": "markdown",
   "metadata": {},
   "source": [
    "## Writing short code"
   ]
  },
  {
   "cell_type": "code",
   "execution_count": 3,
   "metadata": {},
   "outputs": [],
   "source": [
    "def convert(l):\n",
    "    return list(map(lambda x:str(x),l)) "
   ]
  },
  {
   "cell_type": "code",
   "execution_count": 4,
   "metadata": {},
   "outputs": [
    {
     "data": {
      "text/plain": [
       "['1', '4', '55']"
      ]
     },
     "execution_count": 4,
     "metadata": {},
     "output_type": "execute_result"
    }
   ],
   "source": [
    "convert([1,4,55])"
   ]
  },
  {
   "cell_type": "code",
   "execution_count": null,
   "metadata": {},
   "outputs": [],
   "source": [
    "# Sitenin cozumu:\n",
    "\n",
    "# using a list comprehension\n",
    "def convert(ns):\n",
    "    return [str(n) for n in ns]\n",
    "\n",
    "# using map\n",
    "def convert(ns):\n",
    "    return list(map(str, ns))"
   ]
  },
  {
   "cell_type": "markdown",
   "metadata": {},
   "source": [
    "## Custom zip\n"
   ]
  },
  {
   "cell_type": "code",
   "execution_count": 10,
   "metadata": {},
   "outputs": [],
   "source": [
    "def zap(a,b):\n",
    "    return [(a[i],b[i]) for i in range(len(a))]"
   ]
  },
  {
   "cell_type": "code",
   "execution_count": 11,
   "metadata": {},
   "outputs": [
    {
     "data": {
      "text/plain": [
       "[(0, 5), (1, 6), (2, 7), (3, 8)]"
      ]
     },
     "execution_count": 11,
     "metadata": {},
     "output_type": "execute_result"
    }
   ],
   "source": [
    "zap(\n",
    "    [0, 1, 2, 3],\n",
    "    [5, 6, 7, 8]\n",
    ")"
   ]
  },
  {
   "cell_type": "code",
   "execution_count": null,
   "metadata": {},
   "outputs": [],
   "source": [
    "## Sitenin cozumu:\n",
    "\n",
    "# ugly but understandable solution\n",
    "def zap(a, b):\n",
    "    result = []\n",
    "    for i in range(len(a)):\n",
    "        item_from_a = a[i]\n",
    "        item_from_b = b[i]\n",
    "        tup = (item_from_a, item_from_b)\n",
    "        result.append(tup)\n",
    "    return result\n",
    "\n",
    "# concise solution with list comprehensions\n",
    "def zap(a, b):\n",
    "    return [(a[i], b[i]) for i in range(len(a))]"
   ]
  },
  {
   "cell_type": "markdown",
   "metadata": {},
   "source": [
    "## Solution validation"
   ]
  },
  {
   "cell_type": "code",
   "execution_count": 38,
   "metadata": {},
   "outputs": [],
   "source": [
    "def validate(code):\n",
    "    if code.count('def')==0:\n",
    "        return \"missing def\"\n",
    "    if code.count(':')==0:\n",
    "        return \"missing :\"\n",
    "    if \"(\" not in code or \")\" not in code:\n",
    "        return \"missing paren\"\n",
    "    if code.count('(' + ')')>0:\n",
    "        return \"missing param\"\n",
    "    if code.count('    ')==0:\n",
    "        return \"missing indent\"\n",
    "    if code.count('validate')==0:\n",
    "        return \"wrong name\"\n",
    "    if code.count('return')==0:\n",
    "        return \"missing return\"\n",
    "    \n",
    "    return True\n"
   ]
  },
  {
   "cell_type": "code",
   "execution_count": 39,
   "metadata": {},
   "outputs": [
    {
     "data": {
      "text/plain": [
       "'missing def'"
      ]
     },
     "execution_count": 39,
     "metadata": {},
     "output_type": "execute_result"
    }
   ],
   "source": [
    "validate(\"dft validate\")"
   ]
  },
  {
   "cell_type": "code",
   "execution_count": null,
   "metadata": {},
   "outputs": [],
   "source": [
    "# Sitenin cozumu:\n",
    "\n",
    "def validate(code):\n",
    "    if \"def\" not in code:\n",
    "        return \"missing def\"\n",
    "    if \":\" not in code:\n",
    "        return \"missing :\"\n",
    "    if \"(\" not in code or \")\" not in code:\n",
    "        return \"missing paren\"\n",
    "    if \"(\" + \")\" in code:\n",
    "        return \"missing param\"\n",
    "    if \"    \" not in code:\n",
    "        return \"missing indent\"\n",
    "    if \"validate\" not in code:\n",
    "        return \"wrong name\"\n",
    "    if \"return\" not in code:\n",
    "        return \"missing return\"\n",
    "    return True"
   ]
  },
  {
   "cell_type": "markdown",
   "metadata": {},
   "source": [
    "## List xor"
   ]
  },
  {
   "cell_type": "code",
   "execution_count": null,
   "metadata": {},
   "outputs": [],
   "source": [
    "def list_xor(n,list1,list2):\n",
    "    if n in list1 and n not in list2:\n",
    "        return True\n",
    "    if n in list2 and n not in list1:\n",
    "        return True\n",
    "    if n in list1 and n in list2:\n",
    "        return False\n",
    "    if n not in list1 and n not in list2:\n",
    "        return False"
   ]
  },
  {
   "cell_type": "code",
   "execution_count": null,
   "metadata": {},
   "outputs": [],
   "source": [
    "# Sitenin cozumu:\n",
    "\n",
    "# smart solution: uses the built-in xor operator ^\n",
    "def list_xor(n, list1, list2):\n",
    "    return (n in list1) ^ (n in list2)\n",
    "\n",
    "# naive solution: check each case at a time\n",
    "def list_xor(n, list1, list2):\n",
    "    if n not in list1 and n not in list2:\n",
    "        return False\n",
    "    if n in list1 and n in list2:\n",
    "        return False\n",
    "    return True"
   ]
  },
  {
   "cell_type": "markdown",
   "metadata": {},
   "source": [
    "## Counting parameters"
   ]
  },
  {
   "cell_type": "code",
   "execution_count": 40,
   "metadata": {},
   "outputs": [],
   "source": [
    "def param_count(*n):\n",
    "    return len(n)"
   ]
  },
  {
   "cell_type": "code",
   "execution_count": null,
   "metadata": {},
   "outputs": [],
   "source": [
    "# Sitenin cozumu:\n",
    "\n",
    "def param_count(*args):\n",
    "    return len(args)"
   ]
  },
  {
   "cell_type": "markdown",
   "metadata": {},
   "source": [
    "## Thousands separator"
   ]
  },
  {
   "cell_type": "code",
   "execution_count": 140,
   "metadata": {},
   "outputs": [],
   "source": [
    "def format_number(x):\n",
    "    return str(f\"{x:,}\")  #Python3 ve uzeri surumlerde\n",
    "\n"
   ]
  },
  {
   "cell_type": "code",
   "execution_count": null,
   "metadata": {},
   "outputs": [],
   "source": [
    "def format_number(x):\n",
    "    return str(format(x, \",\")) #python3'ten onceki surumlerde\n",
    "    "
   ]
  },
  {
   "cell_type": "code",
   "execution_count": 141,
   "metadata": {},
   "outputs": [
    {
     "data": {
      "text/plain": [
       "'1,432,864'"
      ]
     },
     "execution_count": 141,
     "metadata": {},
     "output_type": "execute_result"
    }
   ],
   "source": [
    "format_number(1432864)"
   ]
  },
  {
   "cell_type": "code",
   "execution_count": null,
   "metadata": {},
   "outputs": [],
   "source": [
    "# Sitenin cozumu:\n",
    "\n",
    "# DIY solution\n",
    "def format_number(n):\n",
    "    result = \"\"\n",
    "    for i, digit in enumerate(reversed(str(n))):\n",
    "        if i != 0 and (i % 3) == 0:\n",
    "            result += \",\"\n",
    "        result += digit\n",
    "    return result[::-1]\n",
    "\n",
    "# built-in solution\n",
    "def format_number(n):\n",
    "    return \"{:,}\".format(n)"
   ]
  }
 ],
 "metadata": {
  "kernelspec": {
   "display_name": "Python 3",
   "language": "python",
   "name": "python3"
  },
  "language_info": {
   "codemirror_mode": {
    "name": "ipython",
    "version": 3
   },
   "file_extension": ".py",
   "mimetype": "text/x-python",
   "name": "python",
   "nbconvert_exporter": "python",
   "pygments_lexer": "ipython3",
   "version": "3.7.4"
  }
 },
 "nbformat": 4,
 "nbformat_minor": 4
}
